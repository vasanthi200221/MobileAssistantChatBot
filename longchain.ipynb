{
 "cells": [
  {
   "cell_type": "code",
   "execution_count": null,
   "id": "7feeede4",
   "metadata": {
    "ExecuteTime": {
     "end_time": "2025-03-12T07:26:28.037345Z",
     "start_time": "2025-03-12T07:25:11.783826Z"
    }
   },
   "outputs": [],
   "source": [
    "pip install langchain openai gradio fastapi uvicorn\n"
   ]
  },
  {
   "cell_type": "code",
   "execution_count": null,
   "id": "363328f8",
   "metadata": {
    "ExecuteTime": {
     "end_time": "2025-03-12T07:29:34.368557Z",
     "start_time": "2025-03-12T07:28:31.507138Z"
    }
   },
   "outputs": [],
   "source": [
    "!pip install --upgrade langchain langchain-community\n"
   ]
  },
  {
   "cell_type": "code",
   "execution_count": null,
   "id": "df9a48a9",
   "metadata": {},
   "outputs": [],
   "source": [
    "!pip install -U langchain-ollama"
   ]
  },
  {
   "cell_type": "code",
   "execution_count": 1,
   "id": "9e9aa385",
   "metadata": {
    "ExecuteTime": {
     "end_time": "2025-03-12T07:57:40.580554Z",
     "start_time": "2025-03-12T07:57:33.333520Z"
    }
   },
   "outputs": [
    {
     "name": "stdout",
     "output_type": "stream",
     "text": [
      "* Running on local URL:  http://127.0.0.1:7860\n",
      "\n",
      "To create a public link, set `share=True` in `launch()`.\n"
     ]
    },
    {
     "data": {
      "text/html": [
       "<div><iframe src=\"http://127.0.0.1:7860/\" width=\"100%\" height=\"500\" allow=\"autoplay; camera; microphone; clipboard-read; clipboard-write;\" frameborder=\"0\" allowfullscreen></iframe></div>"
      ],
      "text/plain": [
       "<IPython.core.display.HTML object>"
      ]
     },
     "metadata": {},
     "output_type": "display_data"
    },
    {
     "name": "stderr",
     "output_type": "stream",
     "text": [
      "C:\\Users\\HP\\AppData\\Local\\Temp\\ipykernel_8556\\2127014202.py:56: LangChainDeprecationWarning: The method `BaseChatModel.__call__` was deprecated in langchain-core 0.1.7 and will be removed in 1.0. Use :meth:`~invoke` instead.\n",
      "  response = chat_model(messages)\n"
     ]
    }
   ],
   "source": [
    "import uvicorn\n",
    "import requests\n",
    "import ollama\n",
    "import gradio as gr\n",
    "from fastapi import FastAPI, HTTPException\n",
    "from fastapi.middleware.cors import CORSMiddleware\n",
    "from langchain_ollama import ChatOllama\n",
    "from langchain.schema import SystemMessage, HumanMessage\n",
    "\n",
    "# Initialize FastAPI\n",
    "app = FastAPI()\n",
    "\n",
    "# LangChain Chat Model\n",
    "chat_model = ChatOllama(model=\"mistral\")\n",
    "\n",
    "def get_latest_phones():\n",
    "    \"\"\"Fetches latest phone models from the API and filters them using AI.\"\"\"\n",
    "    PHONE_API_URL = \"http://127.0.0.1:8000/latest\"\n",
    "    \n",
    "    try:\n",
    "        response = requests.get(PHONE_API_URL, timeout=5)\n",
    "        response.raise_for_status()\n",
    "        data = response.json()\n",
    "    except requests.RequestException as e:\n",
    "        raise HTTPException(status_code=500, detail=f\"Error fetching phone data: {str(e)}\")\n",
    "    \n",
    "    phone_models = data.get(\"latest_models\", [])\n",
    "    if not phone_models:\n",
    "        return {\"error\": \"No phone models available\"}\n",
    "    \n",
    "    phone_text = \"\\n\".join([\n",
    "        f\"Brand: {p.get('brand', 'Unknown')}, Model: {p.get('model', 'Unknown')}, Release Date: {p.get('release_date', 'Unknown')}\" \n",
    "        for p in phone_models\n",
    "    ])\n",
    "    \n",
    "    messages = [\n",
    "        SystemMessage(content=\"You are an AI that selects the most recent phone model.\"),\n",
    "        HumanMessage(content=f\"Given the following phone models, identify the latest one:\\n{phone_text}\")\n",
    "    ]\n",
    "    \n",
    "    response = chat_model(messages)\n",
    "    \n",
    "    return {\"latest_phone_filtered_by_ai\": response.content}\n",
    "\n",
    "@app.get(\"/latest\")\n",
    "def fetch_latest_phone():\n",
    "    return get_latest_phones()\n",
    "\n",
    "def chatbot(query):\n",
    "    \"\"\"Processes user query using LangChain's ChatOllama.\"\"\"\n",
    "    messages = [\n",
    "        SystemMessage(content=\"You are a phone assistant.\"),\n",
    "        HumanMessage(content=query)\n",
    "    ]\n",
    "    \n",
    "    response = chat_model(messages)\n",
    "    return response.content\n",
    "\n",
    "# Gradio UI\n",
    "with gr.Blocks() as ui:\n",
    "    gr.Markdown(\"##  AI-Powered Phone Chatbot\")\n",
    "    with gr.Row():\n",
    "        query_input = gr.Textbox(label=\"Ask about phones:\")\n",
    "        response_output = gr.Textbox(label=\"Chatbot Response\", interactive=False)\n",
    "    \n",
    "    ask_button = gr.Button(\"Ask AI\")\n",
    "    ask_button.click(chatbot, inputs=[query_input], outputs=[response_output])\n",
    "    \n",
    "    fetch_button = gr.Button(\" Get Latest Phones\")\n",
    "    phone_output = gr.Textbox(label=\"Latest Phone Model\", interactive=False)\n",
    "    \n",
    "    fetch_button.click(fn=lambda: get_latest_phones()[\"latest_phone_filtered_by_ai\"], inputs=[], outputs=[phone_output])\n",
    "\n",
    "# Run FastAPI & Gradio UI\n",
    "if __name__ == \"__main__\":\n",
    "    import threading\n",
    "    threading.Thread(target=lambda: uvicorn.run(app, host=\"127.0.0.1\", port=8003, log_level=\"info\"), daemon=True).start()\n",
    "    ui.launch(server_name=\"127.0.0.1\", server_port=7860)\n"
   ]
  },
  {
   "cell_type": "code",
   "execution_count": null,
   "id": "f227fb29",
   "metadata": {},
   "outputs": [],
   "source": []
  }
 ],
 "metadata": {
  "kernelspec": {
   "display_name": "Python 3 (ipykernel)",
   "language": "python",
   "name": "python3"
  },
  "language_info": {
   "codemirror_mode": {
    "name": "ipython",
    "version": 3
   },
   "file_extension": ".py",
   "mimetype": "text/x-python",
   "name": "python",
   "nbconvert_exporter": "python",
   "pygments_lexer": "ipython3",
   "version": "3.12.3"
  }
 },
 "nbformat": 4,
 "nbformat_minor": 5
}
