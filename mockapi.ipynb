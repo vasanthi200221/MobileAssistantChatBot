{
 "cells": [
  {
   "cell_type": "code",
   "execution_count": null,
   "id": "5fec6b67",
   "metadata": {
    "ExecuteTime": {
     "start_time": "2025-03-12T06:35:49.235Z"
    }
   },
   "outputs": [
    {
     "name": "stderr",
     "output_type": "stream",
     "text": [
      "INFO:     Started server process [15260]\n",
      "INFO:     Waiting for application startup.\n",
      "INFO:     Application startup complete.\n",
      "INFO:     Uvicorn running on http://127.0.0.1:8000 (Press CTRL+C to quit)\n"
     ]
    }
   ],
   "source": [
    "import uvicorn\n",
    "import nest_asyncio\n",
    "from fastapi import FastAPI\n",
    "\n",
    "# Allow FastAPI to run inside Jupyter Notebook\n",
    "nest_asyncio.apply()\n",
    "\n",
    "# Create FastAPI app\n",
    "app = FastAPI()\n",
    "\n",
    "# Define the mock API response\n",
    "@app.get(\"/latest\")\n",
    "async def latest_phones():\n",
    "    return {\n",
    "        \"latest_models\": [\n",
    "            {\"brand\": \"Apple\", \"model\": \"iPhone 15 Pro\", \"release_date\": \"2024-09-22\"},\n",
    "            {\"brand\": \"Samsung\", \"model\": \"Galaxy S24 Ultra\", \"release_date\": \"2025-03-12\"},\n",
    "            {\"brand\": \"OnePlus\", \"model\": \"OnePlus 12\", \"release_date\": \"2024-12-10\"},\n",
    "            {\"brand\": \"OnePlus\", \"model\": \"OnePlus 13\", \"release_date\": \"2025-03-10\"},\n",
    "            {\"brand\": \"Apple\", \"model\": \"iPhone 15 Pro max\", \"release_date\": \"2025-03-11\"}\n",
    "            \n",
    "        ]\n",
    "    }\n",
    "\n",
    "# Run the FastAPI server inside Jupyter Notebook\n",
    "uvicorn.run(app, host=\"127.0.0.1\", port=8000)\n",
    "\n"
   ]
  },
  {
   "cell_type": "code",
   "execution_count": null,
   "id": "e3505f7e",
   "metadata": {},
   "outputs": [],
   "source": []
  }
 ],
 "metadata": {
  "kernelspec": {
   "display_name": "Python 3 (ipykernel)",
   "language": "python",
   "name": "python3"
  },
  "language_info": {
   "codemirror_mode": {
    "name": "ipython",
    "version": 3
   },
   "file_extension": ".py",
   "mimetype": "text/x-python",
   "name": "python",
   "nbconvert_exporter": "python",
   "pygments_lexer": "ipython3",
   "version": "3.12.3"
  }
 },
 "nbformat": 4,
 "nbformat_minor": 5
}
