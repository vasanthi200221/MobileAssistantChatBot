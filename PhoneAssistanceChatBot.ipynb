{
 "cells": [
  {
   "cell_type": "code",
   "execution_count": null,
   "id": "524cb5eb",
   "metadata": {
    "ExecuteTime": {
     "end_time": "2025-03-12T05:34:12.732846Z",
     "start_time": "2025-03-12T05:27:11.722829Z"
    }
   },
   "outputs": [],
   "source": [
    "!pip install fastapi uvicorn requests gradio nest_asyncio ollama\n"
   ]
  },
  {
   "cell_type": "code",
   "execution_count": 1,
   "id": "d477fff6",
   "metadata": {
    "ExecuteTime": {
     "end_time": "2025-03-12T06:28:18.027768Z",
     "start_time": "2025-03-12T06:27:53.351329Z"
    }
   },
   "outputs": [
    {
     "name": "stdout",
     "output_type": "stream",
     "text": [
      "* Running on local URL:  http://127.0.0.1:7861\n",
      "\n",
      "To create a public link, set `share=True` in `launch()`.\n"
     ]
    },
    {
     "data": {
      "text/html": [
       "<div><iframe src=\"http://127.0.0.1:7861/\" width=\"100%\" height=\"500\" allow=\"autoplay; camera; microphone; clipboard-read; clipboard-write;\" frameborder=\"0\" allowfullscreen></iframe></div>"
      ],
      "text/plain": [
       "<IPython.core.display.HTML object>"
      ]
     },
     "metadata": {},
     "output_type": "display_data"
    }
   ],
   "source": [
    "import uvicorn\n",
    "import requests\n",
    "import ollama\n",
    "import gradio as gr\n",
    "from fastapi import FastAPI, HTTPException\n",
    "from fastapi.middleware.cors import CORSMiddleware\n",
    "\n",
    "app = FastAPI()\n",
    "\n",
    "def get_latest_phones():\n",
    "    \"\"\"Fetches latest phone models from the API and filters them using AI.\"\"\"\n",
    "    PHONE_API_URL = \"http://127.0.0.1:8000/latest\"\n",
    "    \n",
    "    try:\n",
    "        response = requests.get(PHONE_API_URL, timeout=5)\n",
    "        response.raise_for_status()\n",
    "        data = response.json()\n",
    "    except requests.RequestException as e:\n",
    "        raise HTTPException(status_code=500, detail=f\"Error fetching phone data: {str(e)}\")\n",
    "    \n",
    "    phone_models = data.get(\"latest_models\", [])\n",
    "    if not phone_models:\n",
    "        return {\"error\": \"No phone models available\"}\n",
    "    \n",
    "    phone_text = \"\\n\".join([f\"Brand: {p.get('brand', 'Unknown')}, Model: {p.get('model', 'Unknown')}, Release Date: {p.get('release_date', 'Unknown')}\" for p in phone_models])\n",
    "    \n",
    "    response = ollama.chat(\n",
    "        model=\"mistral\",\n",
    "        messages=[\n",
    "            {\"role\": \"system\", \"content\": \"You are an AI that selects the most recent phone model.\"},\n",
    "            {\"role\": \"user\", \"content\": f\"Given the following phone models, identify the latest one:\\n{phone_text}\"}\n",
    "        ],\n",
    "        options={\"max_tokens\": 100}\n",
    "    )\n",
    "    \n",
    "    return {\"latest_phone_filtered_by_ai\": response['message']['content']}\n",
    "\n",
    "@app.get(\"/latest\")\n",
    "def fetch_latest_phone():\n",
    "    return get_latest_phones()\n",
    "\n",
    "def chatbot(query):\n",
    "    \"\"\"Processes user query using Ollama.\"\"\"\n",
    "    response = ollama.chat(\n",
    "        model=\"mistral\",\n",
    "        messages=[\n",
    "            {\"role\": \"system\", \"content\": \"You are a phone assistant.\"},\n",
    "            {\"role\": \"user\", \"content\": query}\n",
    "        ],\n",
    "        options={\"max_tokens\": 100}\n",
    "    )\n",
    "    return response['message']['content']\n",
    "\n",
    "# Gradio UI\n",
    "with gr.Blocks() as ui:\n",
    "    gr.Markdown(\"##  AI-Powered Phone Chatbot\")\n",
    "    with gr.Row():\n",
    "        query_input = gr.Textbox(label=\"Ask about phones:\")\n",
    "        response_output = gr.Textbox(label=\"Chatbot Response\", interactive=False)\n",
    "    ask_button = gr.Button(\"Ask AI\")\n",
    "    ask_button.click(chatbot, inputs=[query_input], outputs=[response_output])\n",
    "    fetch_button = gr.Button(\" Get Latest Phones\")\n",
    "    phone_output = gr.Textbox(label=\"Latest Phone Model\", interactive=False)\n",
    "    fetch_button.click(fn=lambda: get_latest_phones()[\"latest_phone_filtered_by_ai\"], inputs=[], outputs=[phone_output])\n",
    "\n",
    "# Run FastAPI & Gradio UI\n",
    "if __name__ == \"__main__\":\n",
    "    import threading\n",
    "    threading.Thread(target=lambda: uvicorn.run(app, host=\"127.0.0.1\", port=8003, log_level=\"info\"), daemon=True).start()\n",
    "    ui.launch(server_name=\"127.0.0.1\", server_port=7861)"
   ]
  },
  {
   "cell_type": "code",
   "execution_count": null,
   "id": "6a381637",
   "metadata": {},
   "outputs": [],
   "source": []
  }
 ],
 "metadata": {
  "kernelspec": {
   "display_name": "Python 3 (ipykernel)",
   "language": "python",
   "name": "python3"
  },
  "language_info": {
   "codemirror_mode": {
    "name": "ipython",
    "version": 3
   },
   "file_extension": ".py",
   "mimetype": "text/x-python",
   "name": "python",
   "nbconvert_exporter": "python",
   "pygments_lexer": "ipython3",
   "version": "3.12.3"
  }
 },
 "nbformat": 4,
 "nbformat_minor": 5
}
